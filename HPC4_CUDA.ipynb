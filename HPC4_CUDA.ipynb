{
  "nbformat": 4,
  "nbformat_minor": 0,
  "metadata": {
    "colab": {
      "provenance": [],
      "gpuType": "T4"
    },
    "kernelspec": {
      "name": "python3",
      "display_name": "Python 3"
    },
    "language_info": {
      "name": "python"
    },
    "accelerator": "GPU",
    "gpuClass": "standard"
  },
  "cells": [
    {
      "cell_type": "code",
      "execution_count": 1,
      "metadata": {
        "colab": {
          "base_uri": "https://localhost:8080/"
        },
        "id": "SpTwMNGY0R99",
        "outputId": "e1a297eb-3ff5-457f-bffd-95ac94eff228"
      },
      "outputs": [
        {
          "output_type": "stream",
          "name": "stdout",
          "text": [
            "Looking in indexes: https://pypi.org/simple, https://us-python.pkg.dev/colab-wheels/public/simple/\n",
            "Collecting git+https://github.com/afnan47/cuda.git\n",
            "  Cloning https://github.com/afnan47/cuda.git to /tmp/pip-req-build-8fyefoap\n",
            "  Running command git clone --filter=blob:none --quiet https://github.com/afnan47/cuda.git /tmp/pip-req-build-8fyefoap\n",
            "  Resolved https://github.com/afnan47/cuda.git to commit aac710a35f52bb78ab34d2e52517237941399eff\n",
            "  Preparing metadata (setup.py) ... \u001b[?25l\u001b[?25hdone\n",
            "Building wheels for collected packages: NVCCPlugin\n",
            "  Building wheel for NVCCPlugin (setup.py) ... \u001b[?25l\u001b[?25hdone\n",
            "  Created wheel for NVCCPlugin: filename=NVCCPlugin-0.0.2-py3-none-any.whl size=4287 sha256=71ca03e68f91ffcd217d56af228e2b35d9dd6425c5106e5a8b22c4f9bcef7353\n",
            "  Stored in directory: /tmp/pip-ephem-wheel-cache-uh6b9wxf/wheels/aa/f3/44/e10c1d226ec561d971fcd4b0463f6bff08602afa928a3e7bc7\n",
            "Successfully built NVCCPlugin\n",
            "Installing collected packages: NVCCPlugin\n",
            "Successfully installed NVCCPlugin-0.0.2\n"
          ]
        }
      ],
      "source": [
        "!pip install git+https://github.com/afnan47/cuda.git"
      ]
    },
    {
      "cell_type": "code",
      "source": [
        "%load_ext nvcc_plugin"
      ],
      "metadata": {
        "colab": {
          "base_uri": "https://localhost:8080/"
        },
        "id": "xJ0vw4QI0Si9",
        "outputId": "fe6220a6-dfc3-4a3a-d503-582a2329cb5f"
      },
      "execution_count": 2,
      "outputs": [
        {
          "output_type": "stream",
          "name": "stdout",
          "text": [
            "created output directory at /content/src\n",
            "Out bin /content/result.out\n"
          ]
        }
      ]
    },
    {
      "cell_type": "code",
      "source": [
        "%%cu\n",
        "#include <iostream>\n",
        "int main(){\n",
        "  std::cout << \"Hello World\\n\";\n",
        "  return 0;\n",
        "}"
      ],
      "metadata": {
        "colab": {
          "base_uri": "https://localhost:8080/"
        },
        "id": "WQ_JW23Q0bwF",
        "outputId": "947f8e37-f183-4a5f-cb07-f4d1e818c229"
      },
      "execution_count": 3,
      "outputs": [
        {
          "output_type": "stream",
          "name": "stdout",
          "text": [
            "Hello World\n",
            "\n"
          ]
        }
      ]
    },
    {
      "cell_type": "code",
      "source": [
        "%%cu\n",
        "// HPC 4 A\n",
        "#include<iostream>\n",
        "using namespace std;\n",
        "\n",
        "__global__\n",
        "void add(int* a, int* b,int* c,int size){\n",
        "    int tid = blockIdx.x*blockDim.x + threadIdx.x;\n",
        "    if(tid<size){\n",
        "        c[tid] = a[tid] + b[tid];\n",
        "    }\n",
        "}\n",
        "void initialize(int* vector,int size){\n",
        "    for(int i=0;i<size;i++){\n",
        "        vector[i] = rand()%10;\n",
        "    }\n",
        "}\n",
        "void print(int* vector,int size){\n",
        "    for(int i=0;i<size;i++){\n",
        "        cout<<vector[i]<<\" \";\n",
        "    }\n",
        "}\n",
        "\n",
        "int main(){\n",
        "    int n=4;\n",
        "    int* a, * b, * c;\n",
        "    \n",
        "    int vectorSize = n;\n",
        "\n",
        "    size_t vectorBytes = vectorSize* sizeof(int);\n",
        "\n",
        "    a = new int[vectorSize];\n",
        "    b = new int[vectorSize];\n",
        "    c = new int[vectorSize];\n",
        "\n",
        "    initialize(a,n);\n",
        "    initialize(b,n);\n",
        "\n",
        "    cout<<\"\\nVector 1 : \";\n",
        "    print(a,n);\n",
        "    cout<<\"\\nVector 2 : \";\n",
        "    print(b,n);\n",
        "\n",
        "    int *x, *y, *z;\n",
        "\n",
        "    cudaMalloc(&x,vectorBytes);\n",
        "    cudaMalloc(&y,vectorBytes);\n",
        "    cudaMalloc(&z,vectorBytes);\n",
        "\n",
        "    cudaMemcpy(x,a,vectorBytes,cudaMemcpyHostToDevice);\n",
        "    cudaMemcpy(y,b,vectorBytes,cudaMemcpyHostToDevice);\n",
        "\n",
        "    int threadsPerBlock = 256;\n",
        "    int blocksPerGrid = (n+ threadsPerBlock -1)/threadsPerBlock;\n",
        "\n",
        "    add<<<blocksPerGrid,threadsPerBlock>>>(x,y,z,n);\n",
        "\n",
        "    cudaMemcpy(c,z,vectorBytes,cudaMemcpyDeviceToHost);\n",
        "\n",
        "    cout<<\"\\nAddition : \";\n",
        "    print(c,n);\n",
        "\n",
        "    delete[] a;\n",
        "    delete[] b;\n",
        "    delete[] c;\n",
        "\n",
        "    cudaFree(x);\n",
        "    cudaFree(y);\n",
        "    cudaFree(z);\n",
        "\n",
        "\n",
        "    return(0);\n",
        "    \n",
        "}"
      ],
      "metadata": {
        "colab": {
          "base_uri": "https://localhost:8080/"
        },
        "id": "rIxKh1Ww0f3J",
        "outputId": "d2b2e6bc-9490-4928-f711-90956aecdd21"
      },
      "execution_count": 5,
      "outputs": [
        {
          "output_type": "stream",
          "name": "stdout",
          "text": [
            "\n",
            "Vector 1 : 3 6 7 5 \n",
            "Vector 2 : 3 5 6 2 \n",
            "Addition : 6 11 13 7 \n"
          ]
        }
      ]
    },
    {
      "cell_type": "code",
      "source": [
        "%%cu\n",
        "//HPC 4 B\n",
        "#include<iostream>\n",
        "using namespace std;\n",
        "\n",
        "__global__ void multiply(int* a,int* b,int*c ,int size){\n",
        "    int row=blockIdx.y*blockDim.y + threadIdx.y;\n",
        "    int col=blockIdx.x*blockDim.x + threadIdx.x;\n",
        "\n",
        "    if(row<size && col<size){\n",
        "        int sum=0;\n",
        "        for(int i=0;i<size;i++){\n",
        "            sum+=a[row*size + i]* b[size*i + col];\n",
        "        }\n",
        "        c[row*size + col] = sum;\n",
        "    }\n",
        "}\n",
        "\n",
        "void initialize(int* matrix,int size){\n",
        "    for(int i=0;i<size*size;i++){\n",
        "        matrix[i] = rand()%10;\n",
        "    }\n",
        "}\n",
        "\n",
        "void print(int* matrix,int size){\n",
        "    for(int row=0;row < size;row++){\n",
        "        for(int col=0;col<size;col++){\n",
        "            cout<<matrix[row*size + col]<<\" \";\n",
        "        }\n",
        "        cout<<\"\\n\";\n",
        "    }\n",
        "}\n",
        "\n",
        "\n",
        "int main(){\n",
        "    int *a,*b,*c;\n",
        "\n",
        "    int n=2;\n",
        "\n",
        "    int blockSize=16;\n",
        "    int matrixSize=n*n;\n",
        "    size_t matrixBytes = matrixSize * sizeof(int);\n",
        "\n",
        "    a = new int[matrixSize];\n",
        "    b = new int[matrixSize];\n",
        "    c = new int[matrixSize];\n",
        "\n",
        "    initialize(a,n);\n",
        "    initialize(b,n);\n",
        "\n",
        "    cout<<\"\\nMatrix A \\n\";\n",
        "    print(a,n);\n",
        "    cout<<\"\\nMatrix B \\n\";\n",
        "    print(b,n);\n",
        "\n",
        "    int *x,*y,*z;\n",
        "\n",
        "    cudaMalloc(&x,matrixBytes);\n",
        "    cudaMalloc(&y,matrixBytes);\n",
        "    cudaMalloc(&z,matrixBytes);\n",
        "\n",
        "    cudaMemcpy(x,a,matrixBytes,cudaMemcpyHostToDevice);\n",
        "    cudaMemcpy(y,b ,matrixBytes,cudaMemcpyHostToDevice);\n",
        "\n",
        "    int THREADS=2;\n",
        "    int BLOCKS = n/THREADS;\n",
        "\n",
        "    dim3 threads(THREADS,THREADS);\n",
        "    dim3 blocks(BLOCKS,BLOCKS);\n",
        "\n",
        "    multiply<<<blocks,threads>>>(x,y,z,n);\n",
        "\n",
        "    cudaMemcpy(c,z,matrixBytes,cudaMemcpyDeviceToHost);\n",
        "\n",
        "    cout<<\"\\nMatrix Multiplication \\n\";\n",
        "    print(c,n);\n",
        "\n",
        "    delete[] a;\n",
        "    delete[] b;\n",
        "    delete[] c;\n",
        "\n",
        "    cudaFree(x);\n",
        "    cudaFree(y);\n",
        "    cudaFree(z);\n",
        "\n",
        "    return(0);\n",
        "\n",
        "\n",
        "}"
      ],
      "metadata": {
        "colab": {
          "base_uri": "https://localhost:8080/"
        },
        "id": "lIBeBlAt0p_s",
        "outputId": "d1055c1b-2118-4410-f96f-0754543988aa"
      },
      "execution_count": 6,
      "outputs": [
        {
          "output_type": "stream",
          "name": "stdout",
          "text": [
            "\n",
            "Matrix A \n",
            "3 6 \n",
            "7 5 \n",
            "\n",
            "Matrix B \n",
            "3 5 \n",
            "6 2 \n",
            "\n",
            "Matrix Multiplication \n",
            "45 27 \n",
            "51 45 \n",
            "\n"
          ]
        }
      ]
    },
    {
      "cell_type": "code",
      "source": [],
      "metadata": {
        "id": "yzd4K0AD00C3"
      },
      "execution_count": null,
      "outputs": []
    }
  ]
}